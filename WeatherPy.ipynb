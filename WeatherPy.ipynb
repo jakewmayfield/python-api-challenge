{
 "cells": [
  {
   "cell_type": "markdown",
   "metadata": {},
   "source": [
    "# WeatherPy\n",
    "----\n",
    "\n",
    "#### Note\n",
    "* Instructions have been included for each segment. You do not have to follow them exactly, but they are included to help you think through the steps."
   ]
  },
  {
   "cell_type": "code",
   "execution_count": 20,
   "metadata": {
    "scrolled": true
   },
   "outputs": [],
   "source": [
    "# Dependencies and Setup\n",
    "import matplotlib.pyplot as plt\n",
    "import pandas as pd\n",
    "import numpy as np\n",
    "import requests\n",
    "import time\n",
    "from scipy.stats import linregress\n",
    "\n",
    "# Import API key\n",
    "from api_keys import weather_api_key\n",
    "\n",
    "# Incorporated citipy to determine city based on latitude and longitude\n",
    "from citipy import citipy\n",
    "\n",
    "# Output File (CSV)\n",
    "output_data_file = \"output_data/cities.csv\"\n",
    "\n",
    "# Range of latitudes and longitudes\n",
    "lat_range = (-90, 90)\n",
    "lng_range = (-180, 180)"
   ]
  },
  {
   "cell_type": "markdown",
   "metadata": {},
   "source": [
    "## Generate Cities List"
   ]
  },
  {
   "cell_type": "code",
   "execution_count": 18,
   "metadata": {},
   "outputs": [
    {
     "data": {
      "text/plain": [
       "612"
      ]
     },
     "execution_count": 18,
     "metadata": {},
     "output_type": "execute_result"
    }
   ],
   "source": [
    "# List for holding lat_lngs and cities\n",
    "lat_lngs = []\n",
    "cities = []\n",
    "\n",
    "# Create a set of random lat and lng combinations\n",
    "lats = np.random.uniform(lat_range[0], lat_range[1], size=1500)\n",
    "lngs = np.random.uniform(lng_range[0], lng_range[1], size=1500)\n",
    "lat_lngs = zip(lats, lngs)\n",
    "\n",
    "# Identify nearest city for each lat, lng combination\n",
    "for lat_lng in lat_lngs:\n",
    "    city = citipy.nearest_city(lat_lng[0], lat_lng[1]).city_name\n",
    "    \n",
    "    # If the city is unique, then add it to a our cities list\n",
    "    if city not in cities:\n",
    "        cities.append(city)\n",
    "\n",
    "# Print the city count to confirm sufficient count\n",
    "len(cities)"
   ]
  },
  {
   "cell_type": "markdown",
   "metadata": {},
   "source": [
    "### Perform API Calls\n",
    "* Perform a weather check on each city using a series of successive API calls.\n",
    "* Include a print log of each city as it'sbeing processed (with the city number and city name).\n"
   ]
  },
  {
   "cell_type": "code",
   "execution_count": 14,
   "metadata": {},
   "outputs": [
    {
     "name": "stdout",
     "output_type": "stream",
     "text": [
      "Beginning Data Retrieval\n",
      "-------------------------------\n",
      "Processing Record 1 of Set 1 | Zhigansk\n",
      "----------------------------------------------------------------\n",
      "Processing Record 2 of Set 1 | Ushuaia\n",
      "----------------------------------------------------------------\n",
      "Processing Record 3 of Set 1 | Provideniya\n",
      "----------------------------------------------------------------\n",
      "City not found. Skipping...\n",
      "----------------------------------------------------------------\n",
      "Processing Record 4 of Set 1 | Albany\n",
      "----------------------------------------------------------------\n",
      "Processing Record 5 of Set 1 | Vaini\n",
      "----------------------------------------------------------------\n",
      "Processing Record 6 of Set 1 | Burnie\n",
      "----------------------------------------------------------------\n",
      "Processing Record 7 of Set 1 | Saskylakh\n",
      "----------------------------------------------------------------\n",
      "Processing Record 8 of Set 1 | Nantucket\n",
      "----------------------------------------------------------------\n",
      "Processing Record 9 of Set 1 | Yellowknife\n",
      "----------------------------------------------------------------\n",
      "Processing Record 10 of Set 1 | Yining\n",
      "----------------------------------------------------------------\n",
      "Processing Record 11 of Set 1 | Qaanaaq\n",
      "----------------------------------------------------------------\n",
      "Processing Record 12 of Set 1 | Jamestown\n",
      "----------------------------------------------------------------\n",
      "Processing Record 13 of Set 1 | Severo-Kuril'sk\n",
      "----------------------------------------------------------------\n",
      "Processing Record 14 of Set 1 | Rikitea\n",
      "----------------------------------------------------------------\n",
      "Processing Record 15 of Set 1 | Kruisfontein\n",
      "----------------------------------------------------------------\n",
      "Processing Record 16 of Set 1 | Susanville\n",
      "----------------------------------------------------------------\n",
      "Processing Record 17 of Set 1 | Dersca\n",
      "----------------------------------------------------------------\n",
      "Processing Record 18 of Set 1 | Souillac\n",
      "----------------------------------------------------------------\n",
      "Processing Record 19 of Set 1 | Kozan\n",
      "----------------------------------------------------------------\n",
      "Processing Record 20 of Set 1 | Saint Paul Harbor\n",
      "----------------------------------------------------------------\n",
      "Processing Record 21 of Set 1 | Bluff\n",
      "----------------------------------------------------------------\n",
      "Processing Record 22 of Set 1 | Butaritari\n",
      "----------------------------------------------------------------\n",
      "Processing Record 23 of Set 1 | Tiksi\n",
      "----------------------------------------------------------------\n",
      "Processing Record 24 of Set 1 | Moose Factory\n",
      "----------------------------------------------------------------\n",
      "Processing Record 25 of Set 1 | Bengkulu\n",
      "----------------------------------------------------------------\n",
      "Processing Record 26 of Set 1 | George Town\n",
      "----------------------------------------------------------------\n",
      "Processing Record 27 of Set 1 | Hithadhoo\n",
      "----------------------------------------------------------------\n",
      "City not found. Skipping...\n",
      "----------------------------------------------------------------\n",
      "Processing Record 28 of Set 1 | Bardsīr\n",
      "----------------------------------------------------------------\n",
      "Processing Record 29 of Set 1 | Busselton\n",
      "----------------------------------------------------------------\n",
      "Processing Record 30 of Set 1 | Cape Town\n",
      "----------------------------------------------------------------\n",
      "Processing Record 31 of Set 1 | Kavieng\n",
      "----------------------------------------------------------------\n",
      "Processing Record 32 of Set 1 | Ahipara\n",
      "----------------------------------------------------------------\n",
      "City not found. Skipping...\n",
      "----------------------------------------------------------------\n",
      "Processing Record 33 of Set 1 | Arraial do Cabo\n",
      "----------------------------------------------------------------\n",
      "Processing Record 34 of Set 1 | Tuatapere\n",
      "----------------------------------------------------------------\n",
      "Processing Record 35 of Set 1 | Mataura\n",
      "----------------------------------------------------------------\n",
      "Processing Record 36 of Set 1 | Ilulissat\n",
      "----------------------------------------------------------------\n",
      "Processing Record 37 of Set 1 | Proletarskiy\n",
      "----------------------------------------------------------------\n",
      "Processing Record 38 of Set 1 | Chicama\n",
      "----------------------------------------------------------------\n",
      "Processing Record 39 of Set 1 | Hermanus\n",
      "----------------------------------------------------------------\n",
      "City not found. Skipping...\n",
      "----------------------------------------------------------------\n",
      "Processing Record 40 of Set 1 | Hofn\n",
      "----------------------------------------------------------------\n",
      "Processing Record 41 of Set 1 | Chui\n",
      "----------------------------------------------------------------\n",
      "Processing Record 42 of Set 1 | Bukachacha\n",
      "----------------------------------------------------------------\n",
      "Processing Record 43 of Set 1 | Tashtagol\n",
      "----------------------------------------------------------------\n",
      "Processing Record 44 of Set 1 | Kaitangata\n",
      "----------------------------------------------------------------\n",
      "Processing Record 45 of Set 1 | Atuona\n",
      "----------------------------------------------------------------\n",
      "Processing Record 46 of Set 1 | Mar del Plata\n",
      "----------------------------------------------------------------\n",
      "Processing Record 47 of Set 1 | Kisújszállás\n",
      "----------------------------------------------------------------\n",
      "Processing Record 48 of Set 1 | Grindavik\n",
      "----------------------------------------------------------------\n",
      "Processing Record 49 of Set 1 | Port Blair\n",
      "----------------------------------------------------------------\n",
      "Processing Record 50 of Set 1 | Dikson\n",
      "----------------------------------------------------------------\n",
      "Processing Record 51 of Set 1 | Henties Bay\n",
      "----------------------------------------------------------------\n",
      "City not found. Skipping...\n",
      "----------------------------------------------------------------\n",
      "Processing Record 1 of Set 2 | Zyryanka\n",
      "----------------------------------------------------------------\n",
      "Processing Record 2 of Set 2 | Katsuura\n",
      "----------------------------------------------------------------\n",
      "Processing Record 3 of Set 2 | Pacific Grove\n",
      "----------------------------------------------------------------\n",
      "Processing Record 4 of Set 2 | Puerto Ayora\n",
      "----------------------------------------------------------------\n",
      "Processing Record 5 of Set 2 | Conakry\n",
      "----------------------------------------------------------------\n",
      "Processing Record 6 of Set 2 | Gboko\n",
      "----------------------------------------------------------------\n",
      "Processing Record 7 of Set 2 | Jumla\n",
      "----------------------------------------------------------------\n",
      "Processing Record 8 of Set 2 | Morón\n",
      "----------------------------------------------------------------\n",
      "Processing Record 9 of Set 2 | Severnoye\n",
      "----------------------------------------------------------------\n",
      "City not found. Skipping...\n",
      "----------------------------------------------------------------\n",
      "Processing Record 10 of Set 2 | Waipawa\n",
      "----------------------------------------------------------------\n",
      "Processing Record 11 of Set 2 | Barrow\n",
      "----------------------------------------------------------------\n",
      "Processing Record 12 of Set 2 | Canatlán\n",
      "----------------------------------------------------------------\n",
      "Processing Record 13 of Set 2 | Torbay\n",
      "----------------------------------------------------------------\n",
      "Processing Record 14 of Set 2 | Dudinka\n",
      "----------------------------------------------------------------\n",
      "Processing Record 15 of Set 2 | Moindou\n",
      "----------------------------------------------------------------\n",
      "City not found. Skipping...\n",
      "----------------------------------------------------------------\n",
      "Processing Record 16 of Set 2 | Brainerd\n",
      "----------------------------------------------------------------\n",
      "Processing Record 17 of Set 2 | Awjilah\n",
      "----------------------------------------------------------------\n",
      "Processing Record 18 of Set 2 | Chokurdakh\n",
      "----------------------------------------------------------------\n",
      "Processing Record 19 of Set 2 | Abong Mbang\n",
      "----------------------------------------------------------------\n",
      "Processing Record 20 of Set 2 | Lebu\n",
      "----------------------------------------------------------------\n"
     ]
    },
    {
     "name": "stdout",
     "output_type": "stream",
     "text": [
      "Processing Record 21 of Set 2 | Avarua\n",
      "----------------------------------------------------------------\n",
      "Processing Record 22 of Set 2 | Buchanan\n",
      "----------------------------------------------------------------\n",
      "City not found. Skipping...\n",
      "----------------------------------------------------------------\n",
      "Processing Record 23 of Set 2 | St. George's\n",
      "----------------------------------------------------------------\n",
      "Processing Record 24 of Set 2 | Yarmouth\n",
      "----------------------------------------------------------------\n",
      "City not found. Skipping...\n",
      "----------------------------------------------------------------\n",
      "Processing Record 25 of Set 2 | Saint-Philippe\n",
      "----------------------------------------------------------------\n",
      "Processing Record 26 of Set 2 | Ponta do Sol\n",
      "----------------------------------------------------------------\n",
      "Processing Record 27 of Set 2 | Changde\n",
      "----------------------------------------------------------------\n",
      "Processing Record 28 of Set 2 | Takoradze\n",
      "----------------------------------------------------------------\n",
      "Processing Record 29 of Set 2 | Killybegs\n",
      "----------------------------------------------------------------\n",
      "Processing Record 30 of Set 2 | Lavrentiya\n",
      "----------------------------------------------------------------\n",
      "Processing Record 31 of Set 2 | Aklavik\n",
      "----------------------------------------------------------------\n",
      "Processing Record 32 of Set 2 | Castro\n",
      "----------------------------------------------------------------\n",
      "Processing Record 33 of Set 2 | Punta Arenas\n",
      "----------------------------------------------------------------\n",
      "Processing Record 34 of Set 2 | Itoman\n",
      "----------------------------------------------------------------\n",
      "City not found. Skipping...\n",
      "----------------------------------------------------------------\n",
      "Processing Record 35 of Set 2 | Cidreira\n",
      "----------------------------------------------------------------\n",
      "Processing Record 36 of Set 2 | Christchurch\n",
      "----------------------------------------------------------------\n",
      "City not found. Skipping...\n",
      "----------------------------------------------------------------\n",
      "Processing Record 37 of Set 2 | Malé\n",
      "----------------------------------------------------------------\n",
      "Processing Record 38 of Set 2 | Tilichiki\n",
      "----------------------------------------------------------------\n",
      "Processing Record 39 of Set 2 | Hilo\n",
      "----------------------------------------------------------------\n",
      "Processing Record 40 of Set 2 | Grand Gaube\n",
      "----------------------------------------------------------------\n",
      "Processing Record 41 of Set 2 | Jalu\n",
      "----------------------------------------------------------------\n",
      "Processing Record 42 of Set 2 | Yangi Marg`ilon\n",
      "----------------------------------------------------------------\n",
      "Processing Record 43 of Set 2 | Saquarema\n",
      "----------------------------------------------------------------\n",
      "Processing Record 44 of Set 2 | San Patricio\n",
      "----------------------------------------------------------------\n",
      "Processing Record 45 of Set 2 | Timrå\n",
      "----------------------------------------------------------------\n",
      "Processing Record 46 of Set 2 | Ancud\n",
      "----------------------------------------------------------------\n",
      "Processing Record 47 of Set 2 | Vrangel'\n",
      "----------------------------------------------------------------\n",
      "Processing Record 48 of Set 2 | Hobart\n",
      "----------------------------------------------------------------\n",
      "Processing Record 49 of Set 2 | Kuršėnai\n",
      "----------------------------------------------------------------\n",
      "Processing Record 50 of Set 2 | Bredasdorp\n",
      "----------------------------------------------------------------\n",
      "Processing Record 51 of Set 2 | Khatanga\n",
      "----------------------------------------------------------------\n",
      "Processing Record 1 of Set 3 | Salalah\n",
      "----------------------------------------------------------------\n",
      "Processing Record 2 of Set 3 | Tezu\n",
      "----------------------------------------------------------------\n",
      "Processing Record 3 of Set 3 | Daphne\n",
      "----------------------------------------------------------------\n",
      "Processing Record 4 of Set 3 | Kulunda\n",
      "----------------------------------------------------------------\n",
      "Processing Record 5 of Set 3 | Walvis Bay\n",
      "----------------------------------------------------------------\n",
      "Processing Record 6 of Set 3 | Port Alfred\n",
      "----------------------------------------------------------------\n",
      "Processing Record 7 of Set 3 | Krasnyy Chikoy\n",
      "----------------------------------------------------------------\n",
      "Processing Record 8 of Set 3 | Teyateyaneng\n",
      "----------------------------------------------------------------\n",
      "Processing Record 9 of Set 3 | Kapaa\n",
      "----------------------------------------------------------------\n",
      "Processing Record 10 of Set 3 | New Norfolk\n",
      "----------------------------------------------------------------\n",
      "Processing Record 11 of Set 3 | Horta\n",
      "----------------------------------------------------------------\n",
      "Processing Record 12 of Set 3 | Bela Vista\n",
      "----------------------------------------------------------------\n",
      "Processing Record 13 of Set 3 | Upernavik\n",
      "----------------------------------------------------------------\n",
      "Processing Record 14 of Set 3 | Carnarvon\n",
      "----------------------------------------------------------------\n",
      "Processing Record 15 of Set 3 | Vila Velha\n",
      "----------------------------------------------------------------\n",
      "Processing Record 16 of Set 3 | Arman'\n",
      "----------------------------------------------------------------\n",
      "Processing Record 17 of Set 3 | Faya\n",
      "----------------------------------------------------------------\n",
      "Processing Record 18 of Set 3 | Taikang\n",
      "----------------------------------------------------------------\n",
      "Processing Record 19 of Set 3 | Pisco\n",
      "----------------------------------------------------------------\n",
      "Processing Record 20 of Set 3 | Norman Wells\n",
      "----------------------------------------------------------------\n",
      "Processing Record 21 of Set 3 | Touros\n",
      "----------------------------------------------------------------\n",
      "Processing Record 22 of Set 3 | Port Hardy\n",
      "----------------------------------------------------------------\n",
      "Processing Record 23 of Set 3 | Yatou\n",
      "----------------------------------------------------------------\n",
      "Processing Record 24 of Set 3 | Najrān\n",
      "----------------------------------------------------------------\n",
      "Processing Record 25 of Set 3 | Mildura\n",
      "----------------------------------------------------------------\n",
      "Processing Record 26 of Set 3 | Airai\n",
      "----------------------------------------------------------------\n",
      "Processing Record 27 of Set 3 | Sitka\n",
      "----------------------------------------------------------------\n",
      "Processing Record 28 of Set 3 | Philadelphia\n",
      "----------------------------------------------------------------\n",
      "Processing Record 29 of Set 3 | Shenjiamen\n",
      "----------------------------------------------------------------\n",
      "Processing Record 30 of Set 3 | Mumford\n",
      "----------------------------------------------------------------\n",
      "Processing Record 31 of Set 3 | Pokoynoye\n",
      "----------------------------------------------------------------\n",
      "Processing Record 32 of Set 3 | Qinhuangdao\n",
      "----------------------------------------------------------------\n",
      "Processing Record 33 of Set 3 | Barcelos\n",
      "----------------------------------------------------------------\n",
      "Processing Record 34 of Set 3 | San Cristobal\n",
      "----------------------------------------------------------------\n",
      "Processing Record 35 of Set 3 | Tigil'\n",
      "----------------------------------------------------------------\n",
      "Processing Record 36 of Set 3 | Nikolskoye\n",
      "----------------------------------------------------------------\n",
      "Processing Record 37 of Set 3 | Vostok\n",
      "----------------------------------------------------------------\n",
      "Processing Record 38 of Set 3 | Mahébourg\n",
      "----------------------------------------------------------------\n",
      "Processing Record 39 of Set 3 | Laas\n",
      "----------------------------------------------------------------\n",
      "Processing Record 40 of Set 3 | Safi\n",
      "----------------------------------------------------------------\n",
      "Processing Record 41 of Set 3 | Cabo San Lucas\n",
      "----------------------------------------------------------------\n",
      "Processing Record 42 of Set 3 | Siuna\n",
      "----------------------------------------------------------------\n",
      "Processing Record 43 of Set 3 | Fengzhen\n",
      "----------------------------------------------------------------\n"
     ]
    },
    {
     "name": "stdout",
     "output_type": "stream",
     "text": [
      "Processing Record 44 of Set 3 | Buraidah\n",
      "----------------------------------------------------------------\n",
      "Processing Record 45 of Set 3 | Inhambane\n",
      "----------------------------------------------------------------\n",
      "Processing Record 46 of Set 3 | Banjar\n",
      "----------------------------------------------------------------\n",
      "Processing Record 47 of Set 3 | Marzuq\n",
      "----------------------------------------------------------------\n",
      "Processing Record 48 of Set 3 | Owando\n",
      "----------------------------------------------------------------\n",
      "Processing Record 49 of Set 3 | Guéret\n",
      "----------------------------------------------------------------\n",
      "Processing Record 50 of Set 3 | Lata\n",
      "----------------------------------------------------------------\n",
      "Processing Record 51 of Set 3 | Neuquén\n",
      "----------------------------------------------------------------\n",
      "Processing Record 1 of Set 4 | Bambous Virieux\n",
      "----------------------------------------------------------------\n",
      "Processing Record 2 of Set 4 | Pevek\n",
      "----------------------------------------------------------------\n",
      "Processing Record 3 of Set 4 | Jimo\n",
      "----------------------------------------------------------------\n",
      "Processing Record 4 of Set 4 | Tasiilaq\n",
      "----------------------------------------------------------------\n",
      "Processing Record 5 of Set 4 | Banda Aceh\n",
      "----------------------------------------------------------------\n",
      "Processing Record 6 of Set 4 | Colares\n",
      "----------------------------------------------------------------\n",
      "Processing Record 7 of Set 4 | Benalla\n",
      "----------------------------------------------------------------\n",
      "Processing Record 8 of Set 4 | Roald\n",
      "----------------------------------------------------------------\n",
      "City not found. Skipping...\n",
      "----------------------------------------------------------------\n",
      "Processing Record 9 of Set 4 | Lüderitz\n",
      "----------------------------------------------------------------\n",
      "Processing Record 10 of Set 4 | Batemans Bay\n",
      "----------------------------------------------------------------\n",
      "Processing Record 11 of Set 4 | Vestmannaeyjar\n",
      "----------------------------------------------------------------\n",
      "Processing Record 12 of Set 4 | Esperance\n",
      "----------------------------------------------------------------\n",
      "Processing Record 13 of Set 4 | Nakusp\n",
      "----------------------------------------------------------------\n",
      "Processing Record 14 of Set 4 | Antofagasta\n",
      "----------------------------------------------------------------\n",
      "City not found. Skipping...\n",
      "----------------------------------------------------------------\n",
      "Processing Record 15 of Set 4 | Rosa Zarate\n",
      "----------------------------------------------------------------\n",
      "Processing Record 16 of Set 4 | Nortelândia\n",
      "----------------------------------------------------------------\n",
      "Processing Record 17 of Set 4 | Clyde River\n",
      "----------------------------------------------------------------\n",
      "Processing Record 18 of Set 4 | Cabras\n",
      "----------------------------------------------------------------\n",
      "Processing Record 19 of Set 4 | Abnūb\n",
      "----------------------------------------------------------------\n",
      "Processing Record 20 of Set 4 | Tānsen\n",
      "----------------------------------------------------------------\n",
      "Processing Record 21 of Set 4 | Sioux Lookout\n",
      "----------------------------------------------------------------\n",
      "Processing Record 22 of Set 4 | Japura\n",
      "----------------------------------------------------------------\n",
      "Processing Record 23 of Set 4 | Asău\n",
      "----------------------------------------------------------------\n",
      "Processing Record 24 of Set 4 | East London\n",
      "----------------------------------------------------------------\n",
      "Processing Record 25 of Set 4 | Anjozorobe\n",
      "----------------------------------------------------------------\n",
      "Processing Record 26 of Set 4 | Broome\n",
      "----------------------------------------------------------------\n",
      "Processing Record 27 of Set 4 | Kirakira\n",
      "----------------------------------------------------------------\n",
      "Processing Record 28 of Set 4 | Aloleng\n",
      "----------------------------------------------------------------\n",
      "Processing Record 29 of Set 4 | Kloulklubed\n",
      "----------------------------------------------------------------\n",
      "Processing Record 30 of Set 4 | Shingū\n",
      "----------------------------------------------------------------\n",
      "Processing Record 31 of Set 4 | Hong Kong\n",
      "----------------------------------------------------------------\n",
      "Processing Record 32 of Set 4 | Olinda\n",
      "----------------------------------------------------------------\n",
      "Processing Record 33 of Set 4 | Port Lincoln\n",
      "----------------------------------------------------------------\n",
      "Processing Record 34 of Set 4 | Araouane\n",
      "----------------------------------------------------------------\n",
      "Processing Record 35 of Set 4 | Tura\n",
      "----------------------------------------------------------------\n",
      "City not found. Skipping...\n",
      "----------------------------------------------------------------\n",
      "Processing Record 36 of Set 4 | Pahrump\n",
      "----------------------------------------------------------------\n",
      "Processing Record 37 of Set 4 | Hamilton\n",
      "----------------------------------------------------------------\n",
      "Processing Record 38 of Set 4 | Dingle\n",
      "----------------------------------------------------------------\n",
      "City not found. Skipping...\n",
      "----------------------------------------------------------------\n",
      "Processing Record 39 of Set 4 | Sablé-sur-Sarthe\n",
      "----------------------------------------------------------------\n",
      "Processing Record 40 of Set 4 | Toyooka\n",
      "----------------------------------------------------------------\n",
      "Processing Record 41 of Set 4 | Makakilo City\n",
      "----------------------------------------------------------------\n",
      "Processing Record 42 of Set 4 | Saint-Joseph\n",
      "----------------------------------------------------------------\n",
      "Processing Record 43 of Set 4 | Necochea\n",
      "----------------------------------------------------------------\n",
      "Processing Record 44 of Set 4 | Bloemhof\n",
      "----------------------------------------------------------------\n",
      "Processing Record 45 of Set 4 | Hancheng\n",
      "----------------------------------------------------------------\n",
      "Processing Record 46 of Set 4 | Coquimbo\n",
      "----------------------------------------------------------------\n",
      "Processing Record 47 of Set 4 | Cururupu\n",
      "----------------------------------------------------------------\n",
      "Processing Record 48 of Set 4 | Tarakan\n",
      "----------------------------------------------------------------\n",
      "Processing Record 49 of Set 4 | Maceió\n",
      "----------------------------------------------------------------\n",
      "Processing Record 50 of Set 4 | Talnakh\n",
      "----------------------------------------------------------------\n",
      "Processing Record 51 of Set 4 | Hualmay\n",
      "----------------------------------------------------------------\n",
      "Processing Record 1 of Set 5 | Harper\n",
      "----------------------------------------------------------------\n",
      "Processing Record 2 of Set 5 | Taltal\n",
      "----------------------------------------------------------------\n",
      "City not found. Skipping...\n",
      "----------------------------------------------------------------\n",
      "Processing Record 3 of Set 5 | Thompson\n",
      "----------------------------------------------------------------\n",
      "Processing Record 4 of Set 5 | Leningradskiy\n",
      "----------------------------------------------------------------\n",
      "Processing Record 5 of Set 5 | Plettenberg Bay\n",
      "----------------------------------------------------------------\n",
      "Processing Record 6 of Set 5 | Cockburn Town\n",
      "----------------------------------------------------------------\n",
      "Processing Record 7 of Set 5 | Kahului\n",
      "----------------------------------------------------------------\n",
      "Processing Record 8 of Set 5 | Belyy Yar\n",
      "----------------------------------------------------------------\n",
      "Processing Record 9 of Set 5 | Skibbereen\n",
      "----------------------------------------------------------------\n",
      "Processing Record 10 of Set 5 | Ribeira Grande\n",
      "----------------------------------------------------------------\n",
      "City not found. Skipping...\n",
      "----------------------------------------------------------------\n",
      "Processing Record 11 of Set 5 | Fujin\n",
      "----------------------------------------------------------------\n",
      "Processing Record 12 of Set 5 | Hirara\n",
      "----------------------------------------------------------------\n",
      "Processing Record 13 of Set 5 | Yulara\n",
      "----------------------------------------------------------------\n"
     ]
    },
    {
     "name": "stdout",
     "output_type": "stream",
     "text": [
      "Processing Record 14 of Set 5 | Noshiro\n",
      "----------------------------------------------------------------\n",
      "City not found. Skipping...\n",
      "----------------------------------------------------------------\n",
      "Processing Record 15 of Set 5 | Port Hedland\n",
      "----------------------------------------------------------------\n",
      "Processing Record 16 of Set 5 | Erenhot\n",
      "----------------------------------------------------------------\n",
      "Processing Record 17 of Set 5 | Fortuna\n",
      "----------------------------------------------------------------\n",
      "City not found. Skipping...\n",
      "----------------------------------------------------------------\n",
      "Processing Record 18 of Set 5 | Morant Bay\n",
      "----------------------------------------------------------------\n",
      "Processing Record 19 of Set 5 | Kavaratti\n",
      "----------------------------------------------------------------\n",
      "City not found. Skipping...\n",
      "----------------------------------------------------------------\n",
      "Processing Record 20 of Set 5 | Chumikan\n",
      "----------------------------------------------------------------\n",
      "Processing Record 21 of Set 5 | College\n",
      "----------------------------------------------------------------\n",
      "City not found. Skipping...\n",
      "----------------------------------------------------------------\n",
      "Processing Record 22 of Set 5 | Abonnema\n",
      "----------------------------------------------------------------\n",
      "Processing Record 23 of Set 5 | Mazamari\n",
      "----------------------------------------------------------------\n",
      "Processing Record 24 of Set 5 | Bayburt\n",
      "----------------------------------------------------------------\n",
      "Processing Record 25 of Set 5 | Nouadhibou\n",
      "----------------------------------------------------------------\n",
      "Processing Record 26 of Set 5 | Prieska\n",
      "----------------------------------------------------------------\n",
      "Processing Record 27 of Set 5 | Tateyama\n",
      "----------------------------------------------------------------\n",
      "Processing Record 28 of Set 5 | Chauk\n",
      "----------------------------------------------------------------\n",
      "Processing Record 29 of Set 5 | Kilgore\n",
      "----------------------------------------------------------------\n",
      "Processing Record 30 of Set 5 | Baykit\n",
      "----------------------------------------------------------------\n",
      "Processing Record 31 of Set 5 | Atar\n",
      "----------------------------------------------------------------\n",
      "Processing Record 32 of Set 5 | Avera\n",
      "----------------------------------------------------------------\n",
      "Processing Record 33 of Set 5 | Lewisporte\n",
      "----------------------------------------------------------------\n",
      "Processing Record 34 of Set 5 | Piopio\n",
      "----------------------------------------------------------------\n",
      "City not found. Skipping...\n",
      "----------------------------------------------------------------\n",
      "Processing Record 35 of Set 5 | Ponta Delgada\n",
      "----------------------------------------------------------------\n",
      "Processing Record 36 of Set 5 | Wanning\n",
      "----------------------------------------------------------------\n",
      "Processing Record 37 of Set 5 | Longyearbyen\n",
      "----------------------------------------------------------------\n",
      "Processing Record 38 of Set 5 | Catió\n",
      "----------------------------------------------------------------\n",
      "Processing Record 39 of Set 5 | Saint Anthony\n",
      "----------------------------------------------------------------\n",
      "Processing Record 40 of Set 5 | São Miguel do Araguaia\n",
      "----------------------------------------------------------------\n",
      "City not found. Skipping...\n",
      "----------------------------------------------------------------\n",
      "Processing Record 41 of Set 5 | Iqaluit\n",
      "----------------------------------------------------------------\n",
      "Processing Record 42 of Set 5 | Tuktoyaktuk\n",
      "----------------------------------------------------------------\n",
      "Processing Record 43 of Set 5 | Cherskiy\n",
      "----------------------------------------------------------------\n",
      "Processing Record 44 of Set 5 | Arrondissement d'Ajaccio\n",
      "----------------------------------------------------------------\n",
      "Processing Record 45 of Set 5 | Loukhi\n",
      "----------------------------------------------------------------\n",
      "Processing Record 46 of Set 5 | Saint-Augustin\n",
      "----------------------------------------------------------------\n",
      "Processing Record 47 of Set 5 | Talara\n",
      "----------------------------------------------------------------\n",
      "Processing Record 48 of Set 5 | Carauari\n",
      "----------------------------------------------------------------\n",
      "City not found. Skipping...\n",
      "----------------------------------------------------------------\n",
      "Processing Record 49 of Set 5 | Saldanha\n",
      "----------------------------------------------------------------\n",
      "Processing Record 50 of Set 5 | Ayr\n",
      "----------------------------------------------------------------\n",
      "Processing Record 51 of Set 5 | Balsas\n",
      "----------------------------------------------------------------\n",
      "Processing Record 1 of Set 6 | Stavern\n",
      "----------------------------------------------------------------\n",
      "Processing Record 2 of Set 6 | Pagudpud\n",
      "----------------------------------------------------------------\n",
      "Processing Record 3 of Set 6 | Sørland\n",
      "----------------------------------------------------------------\n",
      "Processing Record 4 of Set 6 | Saint George\n",
      "----------------------------------------------------------------\n",
      "Processing Record 5 of Set 6 | San Onofre\n",
      "----------------------------------------------------------------\n",
      "Processing Record 6 of Set 6 | Mehamn\n",
      "----------------------------------------------------------------\n",
      "Processing Record 7 of Set 6 | Charters Towers\n",
      "----------------------------------------------------------------\n",
      "Processing Record 8 of Set 6 | Guarujá\n",
      "----------------------------------------------------------------\n",
      "Processing Record 9 of Set 6 | Evensk\n",
      "----------------------------------------------------------------\n",
      "Processing Record 10 of Set 6 | Porirua\n",
      "----------------------------------------------------------------\n",
      "Processing Record 11 of Set 6 | Rayong\n",
      "----------------------------------------------------------------\n",
      "Processing Record 12 of Set 6 | Narrabri\n",
      "----------------------------------------------------------------\n",
      "Processing Record 13 of Set 6 | Buala\n",
      "----------------------------------------------------------------\n",
      "City not found. Skipping...\n",
      "----------------------------------------------------------------\n",
      "Processing Record 14 of Set 6 | Atasū\n",
      "----------------------------------------------------------------\n",
      "Processing Record 15 of Set 6 | Egvekinot\n",
      "----------------------------------------------------------------\n",
      "Processing Record 16 of Set 6 | Luleå\n",
      "----------------------------------------------------------------\n",
      "City not found. Skipping...\n",
      "----------------------------------------------------------------\n",
      "Processing Record 17 of Set 6 | Naantali\n",
      "----------------------------------------------------------------\n",
      "Processing Record 18 of Set 6 | Yenotayevka\n",
      "----------------------------------------------------------------\n",
      "Processing Record 19 of Set 6 | Beloha\n",
      "----------------------------------------------------------------\n",
      "Processing Record 20 of Set 6 | Geraldton\n",
      "----------------------------------------------------------------\n",
      "Processing Record 21 of Set 6 | Muravlenko\n",
      "----------------------------------------------------------------\n",
      "Processing Record 22 of Set 6 | Sakakah\n",
      "----------------------------------------------------------------\n",
      "Processing Record 23 of Set 6 | Derzhavīnsk\n",
      "----------------------------------------------------------------\n",
      "City not found. Skipping...\n",
      "----------------------------------------------------------------\n",
      "Processing Record 24 of Set 6 | Lompoc\n",
      "----------------------------------------------------------------\n",
      "Processing Record 25 of Set 6 | Dubovskoye\n",
      "----------------------------------------------------------------\n",
      "Processing Record 26 of Set 6 | Kingaroy\n",
      "----------------------------------------------------------------\n",
      "Processing Record 27 of Set 6 | Isangel\n",
      "----------------------------------------------------------------\n",
      "City not found. Skipping...\n",
      "----------------------------------------------------------------\n",
      "Processing Record 28 of Set 6 | Bhālki\n",
      "----------------------------------------------------------------\n",
      "Processing Record 29 of Set 6 | Port-Cartier\n",
      "----------------------------------------------------------------\n",
      "Processing Record 30 of Set 6 | Bethanien\n",
      "----------------------------------------------------------------\n",
      "City not found. Skipping...\n"
     ]
    },
    {
     "name": "stdout",
     "output_type": "stream",
     "text": [
      "----------------------------------------------------------------\n",
      "Processing Record 31 of Set 6 | Sur\n",
      "----------------------------------------------------------------\n",
      "Processing Record 32 of Set 6 | Koslan\n",
      "----------------------------------------------------------------\n",
      "Processing Record 33 of Set 6 | Coyhaique\n",
      "----------------------------------------------------------------\n",
      "Processing Record 34 of Set 6 | Cayenne\n",
      "----------------------------------------------------------------\n",
      "Processing Record 35 of Set 6 | Bolshevik\n",
      "----------------------------------------------------------------\n",
      "Processing Record 36 of Set 6 | Nabire\n",
      "----------------------------------------------------------------\n",
      "Processing Record 37 of Set 6 | Aripuanã\n",
      "----------------------------------------------------------------\n",
      "City not found. Skipping...\n",
      "----------------------------------------------------------------\n",
      "Processing Record 38 of Set 6 | Bentiu\n",
      "----------------------------------------------------------------\n",
      "Processing Record 39 of Set 6 | Igra\n",
      "----------------------------------------------------------------\n",
      "Processing Record 40 of Set 6 | Tres Arroyos\n",
      "----------------------------------------------------------------\n",
      "Processing Record 41 of Set 6 | Codajás\n",
      "----------------------------------------------------------------\n",
      "Processing Record 42 of Set 6 | Vila do Maio\n",
      "----------------------------------------------------------------\n",
      "Processing Record 43 of Set 6 | Portland\n",
      "----------------------------------------------------------------\n",
      "Processing Record 44 of Set 6 | Yichang\n",
      "----------------------------------------------------------------\n",
      "Processing Record 45 of Set 6 | Tabou\n",
      "----------------------------------------------------------------\n",
      "Processing Record 46 of Set 6 | Williams Lake\n",
      "----------------------------------------------------------------\n",
      "Processing Record 47 of Set 6 | Leningori\n",
      "----------------------------------------------------------------\n",
      "City not found. Skipping...\n",
      "----------------------------------------------------------------\n",
      "Processing Record 48 of Set 6 | Akdepe\n",
      "----------------------------------------------------------------\n",
      "Processing Record 49 of Set 6 | Mount Isa\n",
      "----------------------------------------------------------------\n",
      "Processing Record 50 of Set 6 | Pangai\n",
      "----------------------------------------------------------------\n",
      "Processing Record 51 of Set 6 | Arbazh\n",
      "----------------------------------------------------------------\n",
      "Processing Record 1 of Set 7 | Tombouctou\n",
      "----------------------------------------------------------------\n",
      "Processing Record 2 of Set 7 | Lethem\n",
      "----------------------------------------------------------------\n",
      "Processing Record 3 of Set 7 | Regidor\n",
      "----------------------------------------------------------------\n",
      "Processing Record 4 of Set 7 | Coahuayana Viejo\n",
      "----------------------------------------------------------------\n",
      "Processing Record 5 of Set 7 | Jiblah\n",
      "----------------------------------------------------------------\n",
      "Processing Record 6 of Set 7 | Klaksvík\n",
      "----------------------------------------------------------------\n",
      "Processing Record 7 of Set 7 | Zunyi\n",
      "----------------------------------------------------------------\n",
      "Processing Record 8 of Set 7 | Fort Nelson\n",
      "----------------------------------------------------------------\n",
      "Processing Record 9 of Set 7 | Conceição do Araguaia\n",
      "----------------------------------------------------------------\n",
      "Processing Record 10 of Set 7 | Moerai\n",
      "----------------------------------------------------------------\n",
      "Processing Record 11 of Set 7 | Ossora\n",
      "----------------------------------------------------------------\n",
      "Processing Record 12 of Set 7 | Porto Velho\n",
      "----------------------------------------------------------------\n",
      "City not found. Skipping...\n",
      "----------------------------------------------------------------\n",
      "Processing Record 13 of Set 7 | Puerto Quijarro\n",
      "----------------------------------------------------------------\n",
      "Processing Record 14 of Set 7 | Nanortalik\n",
      "----------------------------------------------------------------\n",
      "Processing Record 15 of Set 7 | Bairnsdale\n",
      "----------------------------------------------------------------\n",
      "City not found. Skipping...\n",
      "----------------------------------------------------------------\n",
      "Processing Record 16 of Set 7 | Lamar\n",
      "----------------------------------------------------------------\n",
      "Processing Record 17 of Set 7 | Westport\n",
      "----------------------------------------------------------------\n",
      "Processing Record 18 of Set 7 | Viedma\n",
      "----------------------------------------------------------------\n",
      "Processing Record 19 of Set 7 | Bonavista\n",
      "----------------------------------------------------------------\n",
      "City not found. Skipping...\n",
      "----------------------------------------------------------------\n",
      "Processing Record 20 of Set 7 | Qaqortoq\n",
      "----------------------------------------------------------------\n",
      "Processing Record 21 of Set 7 | Olafsvik\n",
      "----------------------------------------------------------------\n",
      "Processing Record 22 of Set 7 | Puerto Escondido\n",
      "----------------------------------------------------------------\n",
      "City not found. Skipping...\n",
      "----------------------------------------------------------------\n",
      "Processing Record 23 of Set 7 | Ferreira do Alentejo\n",
      "----------------------------------------------------------------\n",
      "Processing Record 24 of Set 7 | Chacaltianguis\n",
      "----------------------------------------------------------------\n",
      "Processing Record 25 of Set 7 | La Ronge\n",
      "----------------------------------------------------------------\n",
      "Processing Record 26 of Set 7 | Poum\n",
      "----------------------------------------------------------------\n",
      "Processing Record 27 of Set 7 | Longaví\n",
      "----------------------------------------------------------------\n",
      "Processing Record 28 of Set 7 | Östersund\n",
      "----------------------------------------------------------------\n",
      "Processing Record 29 of Set 7 | Peebles\n",
      "----------------------------------------------------------------\n",
      "Processing Record 30 of Set 7 | Fallon\n",
      "----------------------------------------------------------------\n",
      "Processing Record 31 of Set 7 | Vardø\n",
      "----------------------------------------------------------------\n",
      "Processing Record 32 of Set 7 | Port-Gentil\n",
      "----------------------------------------------------------------\n",
      "Processing Record 33 of Set 7 | Mayo\n",
      "----------------------------------------------------------------\n",
      "Processing Record 34 of Set 7 | Gravdal\n",
      "----------------------------------------------------------------\n",
      "Processing Record 35 of Set 7 | San Quintín\n",
      "----------------------------------------------------------------\n",
      "Processing Record 36 of Set 7 | Baruun-Urt\n",
      "----------------------------------------------------------------\n",
      "Processing Record 37 of Set 7 | Faanui\n",
      "----------------------------------------------------------------\n",
      "Processing Record 38 of Set 7 | Kameno\n",
      "----------------------------------------------------------------\n",
      "Processing Record 39 of Set 7 | São Filipe\n",
      "----------------------------------------------------------------\n",
      "Processing Record 40 of Set 7 | Bereda\n",
      "----------------------------------------------------------------\n",
      "Processing Record 41 of Set 7 | Kitimat\n",
      "----------------------------------------------------------------\n",
      "Processing Record 42 of Set 7 | Mahanoro\n",
      "----------------------------------------------------------------\n",
      "Processing Record 43 of Set 7 | Watertown\n",
      "----------------------------------------------------------------\n",
      "Processing Record 44 of Set 7 | Chimoré\n",
      "----------------------------------------------------------------\n",
      "Processing Record 45 of Set 7 | Byron Bay\n",
      "----------------------------------------------------------------\n",
      "Processing Record 46 of Set 7 | Itarema\n",
      "----------------------------------------------------------------\n",
      "City not found. Skipping...\n",
      "----------------------------------------------------------------\n",
      "Processing Record 47 of Set 7 | Copiapó\n",
      "----------------------------------------------------------------\n",
      "Processing Record 48 of Set 7 | Magburaka\n",
      "----------------------------------------------------------------\n",
      "Processing Record 49 of Set 7 | Mahon\n",
      "----------------------------------------------------------------\n",
      "Processing Record 50 of Set 7 | Hobyo\n",
      "----------------------------------------------------------------\n"
     ]
    },
    {
     "name": "stdout",
     "output_type": "stream",
     "text": [
      "Processing Record 51 of Set 7 | Williamsport\n",
      "----------------------------------------------------------------\n",
      "Processing Record 1 of Set 8 | Torres\n",
      "----------------------------------------------------------------\n",
      "Processing Record 2 of Set 8 | Chauny\n",
      "----------------------------------------------------------------\n",
      "Processing Record 3 of Set 8 | Mutoko\n",
      "----------------------------------------------------------------\n",
      "Processing Record 4 of Set 8 | Adrar\n",
      "----------------------------------------------------------------\n",
      "Processing Record 5 of Set 8 | Beringovskiy\n",
      "----------------------------------------------------------------\n",
      "Processing Record 6 of Set 8 | Kassala\n",
      "----------------------------------------------------------------\n",
      "Processing Record 7 of Set 8 | Phalaborwa\n",
      "----------------------------------------------------------------\n",
      "Processing Record 8 of Set 8 | Cartagena\n",
      "----------------------------------------------------------------\n",
      "Processing Record 9 of Set 8 | Erzin\n",
      "----------------------------------------------------------------\n",
      "City not found. Skipping...\n",
      "----------------------------------------------------------------\n",
      "Processing Record 10 of Set 8 | Hermosillo\n",
      "----------------------------------------------------------------\n",
      "Processing Record 11 of Set 8 | Mweka\n",
      "----------------------------------------------------------------\n",
      "Processing Record 12 of Set 8 | Oliveira dos Brejinhos\n",
      "----------------------------------------------------------------\n",
      "Processing Record 13 of Set 8 | Preobrazheniye\n",
      "----------------------------------------------------------------\n",
      "Processing Record 14 of Set 8 | Knyaze-Volkonskoye\n",
      "----------------------------------------------------------------\n",
      "Processing Record 15 of Set 8 | North Bend\n",
      "----------------------------------------------------------------\n",
      "Processing Record 16 of Set 8 | Zachepylivka\n",
      "----------------------------------------------------------------\n",
      "Processing Record 17 of Set 8 | Port Elizabeth\n",
      "----------------------------------------------------------------\n",
      "Processing Record 18 of Set 8 | Ratne\n",
      "----------------------------------------------------------------\n",
      "Processing Record 19 of Set 8 | Mezen'\n",
      "----------------------------------------------------------------\n",
      "Processing Record 20 of Set 8 | Vallenar\n",
      "----------------------------------------------------------------\n",
      "Processing Record 21 of Set 8 | Dedovichi\n",
      "----------------------------------------------------------------\n",
      "Processing Record 22 of Set 8 | Kalmunai\n",
      "----------------------------------------------------------------\n",
      "Processing Record 23 of Set 8 | Kumul\n",
      "----------------------------------------------------------------\n",
      "Processing Record 24 of Set 8 | Yonago\n",
      "----------------------------------------------------------------\n",
      "Processing Record 25 of Set 8 | São Domingos do Maranhão\n",
      "----------------------------------------------------------------\n",
      "City not found. Skipping...\n",
      "----------------------------------------------------------------\n",
      "Processing Record 26 of Set 8 | Pindiga\n",
      "----------------------------------------------------------------\n",
      "Processing Record 27 of Set 8 | Berlevåg\n",
      "----------------------------------------------------------------\n",
      "Processing Record 28 of Set 8 | Bursa\n",
      "----------------------------------------------------------------\n",
      "Processing Record 29 of Set 8 | Bethel\n",
      "----------------------------------------------------------------\n",
      "Processing Record 30 of Set 8 | Kuznechnoye\n",
      "----------------------------------------------------------------\n",
      "Processing Record 31 of Set 8 | Evanston\n",
      "----------------------------------------------------------------\n",
      "City not found. Skipping...\n",
      "----------------------------------------------------------------\n",
      "Processing Record 32 of Set 8 | Wenling\n",
      "----------------------------------------------------------------\n",
      "Processing Record 33 of Set 8 | Padang\n",
      "----------------------------------------------------------------\n",
      "City not found. Skipping...\n",
      "----------------------------------------------------------------\n",
      "Processing Record 34 of Set 8 | Kifrī\n",
      "----------------------------------------------------------------\n",
      "Processing Record 35 of Set 8 | Karatsu\n",
      "----------------------------------------------------------------\n",
      "Processing Record 36 of Set 8 | Bathsheba\n",
      "----------------------------------------------------------------\n",
      "Processing Record 37 of Set 8 | Ust'-Kulom\n",
      "----------------------------------------------------------------\n",
      "Processing Record 38 of Set 8 | Medicine Hat\n",
      "----------------------------------------------------------------\n",
      "City not found. Skipping...\n",
      "----------------------------------------------------------------\n",
      "Processing Record 39 of Set 8 | Colquechaca\n",
      "----------------------------------------------------------------\n",
      "Processing Record 40 of Set 8 | Comodoro Rivadavia\n",
      "----------------------------------------------------------------\n",
      "Processing Record 41 of Set 8 | Luanda\n",
      "----------------------------------------------------------------\n",
      "Processing Record 42 of Set 8 | Ankpa\n",
      "----------------------------------------------------------------\n",
      "Processing Record 43 of Set 8 | Kenai\n",
      "----------------------------------------------------------------\n",
      "Processing Record 44 of Set 8 | Taitung City\n",
      "----------------------------------------------------------------\n",
      "Processing Record 45 of Set 8 | Zhangye\n",
      "----------------------------------------------------------------\n",
      "City not found. Skipping...\n",
      "----------------------------------------------------------------\n",
      "City not found. Skipping...\n",
      "----------------------------------------------------------------\n",
      "Processing Record 46 of Set 8 | Khandyga\n",
      "----------------------------------------------------------------\n",
      "Processing Record 47 of Set 8 | Caravelas\n",
      "----------------------------------------------------------------\n",
      "Processing Record 48 of Set 8 | The Valley\n",
      "----------------------------------------------------------------\n",
      "Processing Record 49 of Set 8 | Tieling\n",
      "----------------------------------------------------------------\n",
      "Processing Record 50 of Set 8 | Villa Carlos Paz\n",
      "----------------------------------------------------------------\n",
      "Processing Record 51 of Set 8 | Troy\n",
      "----------------------------------------------------------------\n",
      "Processing Record 1 of Set 9 | Ust'-Ishim\n",
      "----------------------------------------------------------------\n",
      "Processing Record 2 of Set 9 | Taupo\n",
      "----------------------------------------------------------------\n",
      "City not found. Skipping...\n",
      "----------------------------------------------------------------\n",
      "Processing Record 3 of Set 9 | Granger\n",
      "----------------------------------------------------------------\n",
      "Processing Record 4 of Set 9 | Jūnāgarh\n",
      "----------------------------------------------------------------\n",
      "Processing Record 5 of Set 9 | Husavik\n",
      "----------------------------------------------------------------\n",
      "Processing Record 6 of Set 9 | Luanda\n",
      "----------------------------------------------------------------\n",
      "Processing Record 7 of Set 9 | Sawākin\n",
      "----------------------------------------------------------------\n",
      "Processing Record 8 of Set 9 | Naples\n",
      "----------------------------------------------------------------\n",
      "Processing Record 9 of Set 9 | Sharjah city\n",
      "----------------------------------------------------------------\n",
      "Processing Record 10 of Set 9 | Kiryat Gat\n",
      "----------------------------------------------------------------\n",
      "Processing Record 11 of Set 9 | Kyabé\n",
      "----------------------------------------------------------------\n",
      "Processing Record 12 of Set 9 | Vila Franca do Campo\n",
      "----------------------------------------------------------------\n",
      "Processing Record 13 of Set 9 | Swift Current\n",
      "----------------------------------------------------------------\n",
      "Processing Record 14 of Set 9 | Pokhara\n",
      "----------------------------------------------------------------\n",
      "Processing Record 15 of Set 9 | Ust'-Ilimsk\n",
      "----------------------------------------------------------------\n",
      "Processing Record 16 of Set 9 | San Juan\n",
      "----------------------------------------------------------------\n",
      "Processing Record 17 of Set 9 | Seminole\n",
      "----------------------------------------------------------------\n",
      "Processing Record 18 of Set 9 | Chiredzi\n",
      "----------------------------------------------------------------\n"
     ]
    },
    {
     "name": "stdout",
     "output_type": "stream",
     "text": [
      "Processing Record 19 of Set 9 | Beruwala\n",
      "----------------------------------------------------------------\n",
      "Processing Record 20 of Set 9 | Grand-Santi\n",
      "----------------------------------------------------------------\n",
      "Processing Record 21 of Set 9 | Ereymentau\n",
      "----------------------------------------------------------------\n",
      "Processing Record 22 of Set 9 | Tūkrah\n",
      "----------------------------------------------------------------\n",
      "Processing Record 23 of Set 9 | São João da Barra\n",
      "----------------------------------------------------------------\n",
      "Processing Record 24 of Set 9 | Bubaque\n",
      "----------------------------------------------------------------\n",
      "Processing Record 25 of Set 9 | Juan Lacaze\n",
      "----------------------------------------------------------------\n",
      "Processing Record 26 of Set 9 | Pundaguitan\n",
      "----------------------------------------------------------------\n",
      "Processing Record 27 of Set 9 | Samarai\n",
      "----------------------------------------------------------------\n",
      "Processing Record 28 of Set 9 | Dukat\n",
      "----------------------------------------------------------------\n",
      "Processing Record 29 of Set 9 | Kahramanmaraş Province\n",
      "----------------------------------------------------------------\n",
      "Processing Record 30 of Set 9 | Xining\n",
      "----------------------------------------------------------------\n",
      "City not found. Skipping...\n",
      "----------------------------------------------------------------\n",
      "Processing Record 31 of Set 9 | Ternate\n",
      "----------------------------------------------------------------\n",
      "Processing Record 32 of Set 9 | Arlit\n",
      "----------------------------------------------------------------\n",
      "Processing Record 33 of Set 9 | Ishigaki\n",
      "----------------------------------------------------------------\n",
      "Processing Record 34 of Set 9 | San Rafael\n",
      "----------------------------------------------------------------\n",
      "Processing Record 35 of Set 9 | Ulaangom\n",
      "----------------------------------------------------------------\n",
      "Processing Record 36 of Set 9 | Esso\n",
      "----------------------------------------------------------------\n",
      "Processing Record 37 of Set 9 | Rock Sound\n",
      "----------------------------------------------------------------\n",
      "Processing Record 38 of Set 9 | Teknāf\n",
      "----------------------------------------------------------------\n",
      "Processing Record 39 of Set 9 | Lagoa\n",
      "----------------------------------------------------------------\n",
      "Processing Record 40 of Set 9 | Machalí\n",
      "----------------------------------------------------------------\n",
      "Processing Record 41 of Set 9 | Genhe\n",
      "----------------------------------------------------------------\n",
      "Processing Record 42 of Set 9 | Jacareacanga\n",
      "----------------------------------------------------------------\n",
      "Processing Record 43 of Set 9 | Roebourne\n",
      "----------------------------------------------------------------\n",
      "Processing Record 44 of Set 9 | Haines Junction\n",
      "----------------------------------------------------------------\n",
      "Processing Record 45 of Set 9 | Mossamedes\n",
      "----------------------------------------------------------------\n",
      "Processing Record 46 of Set 9 | Socuéllamos\n",
      "----------------------------------------------------------------\n",
      "Processing Record 47 of Set 9 | Poções\n",
      "----------------------------------------------------------------\n",
      "Processing Record 48 of Set 9 | Kayes\n",
      "----------------------------------------------------------------\n",
      "Processing Record 49 of Set 9 | Salinópolis\n",
      "----------------------------------------------------------------\n",
      "Processing Record 50 of Set 9 | Mount Gambier\n",
      "----------------------------------------------------------------\n",
      "Processing Record 51 of Set 9 | Codrington\n",
      "----------------------------------------------------------------\n",
      "Processing Record 1 of Set 10 | Marsá Maţrūḩ\n",
      "----------------------------------------------------------------\n",
      "Processing Record 2 of Set 10 | Guerrero Negro\n",
      "----------------------------------------------------------------\n",
      "Processing Record 3 of Set 10 | Nurlat\n",
      "----------------------------------------------------------------\n",
      "Processing Record 4 of Set 10 | Pierre\n",
      "----------------------------------------------------------------\n",
      "Processing Record 5 of Set 10 | North Platte\n",
      "----------------------------------------------------------------\n",
      "Processing Record 6 of Set 10 | Ulladulla\n",
      "----------------------------------------------------------------\n",
      "City not found. Skipping...\n",
      "----------------------------------------------------------------\n",
      "Processing Record 7 of Set 10 | Turaif\n",
      "----------------------------------------------------------------\n",
      "Processing Record 8 of Set 10 | Brandon\n",
      "----------------------------------------------------------------\n",
      "Processing Record 9 of Set 10 | Te Anau\n",
      "----------------------------------------------------------------\n",
      "Processing Record 10 of Set 10 | Sulangan\n",
      "----------------------------------------------------------------\n",
      "Processing Record 11 of Set 10 | Nikolayevka\n",
      "----------------------------------------------------------------\n",
      "Processing Record 12 of Set 10 | Qui Nhon\n",
      "----------------------------------------------------------------\n",
      "Processing Record 13 of Set 10 | Pringsewu\n",
      "----------------------------------------------------------------\n",
      "Processing Record 14 of Set 10 | Suluktu\n",
      "----------------------------------------------------------------\n",
      "Processing Record 15 of Set 10 | Māngrol\n",
      "----------------------------------------------------------------\n",
      "Processing Record 16 of Set 10 | São José da Coroa Grande\n",
      "----------------------------------------------------------------\n",
      "Processing Record 17 of Set 10 | Yerbogachën\n",
      "----------------------------------------------------------------\n",
      "Processing Record 18 of Set 10 | Soure\n",
      "----------------------------------------------------------------\n",
      "Processing Record 19 of Set 10 | Brigantine\n",
      "----------------------------------------------------------------\n",
      "Processing Record 20 of Set 10 | Boende\n",
      "----------------------------------------------------------------\n",
      "Processing Record 21 of Set 10 | Fare\n",
      "----------------------------------------------------------------\n",
      "Processing Record 22 of Set 10 | Palm Valley\n",
      "----------------------------------------------------------------\n",
      "Processing Record 23 of Set 10 | Oodweyne\n",
      "----------------------------------------------------------------\n",
      "Processing Record 24 of Set 10 | Hefei\n",
      "----------------------------------------------------------------\n",
      "Processing Record 25 of Set 10 | Chara\n",
      "----------------------------------------------------------------\n",
      "Processing Record 26 of Set 10 | Solhan\n",
      "----------------------------------------------------------------\n",
      "Processing Record 27 of Set 10 | Kumano\n",
      "----------------------------------------------------------------\n",
      "Processing Record 28 of Set 10 | South Kazakhstan Region\n",
      "----------------------------------------------------------------\n",
      "Processing Record 29 of Set 10 | Seoul\n",
      "----------------------------------------------------------------\n",
      "Processing Record 30 of Set 10 | Lima\n",
      "----------------------------------------------------------------\n",
      "Processing Record 31 of Set 10 | Malaṅgawā\n",
      "----------------------------------------------------------------\n",
      "Processing Record 32 of Set 10 | Nipawin\n",
      "----------------------------------------------------------------\n",
      "City not found. Skipping...\n",
      "----------------------------------------------------------------\n",
      "Processing Record 33 of Set 10 | Arkhangelsk\n",
      "----------------------------------------------------------------\n",
      "Processing Record 34 of Set 10 | Okhotsk\n",
      "----------------------------------------------------------------\n",
      "Processing Record 35 of Set 10 | Ohaeawai\n",
      "----------------------------------------------------------------\n",
      "Processing Record 36 of Set 10 | Bosaso\n",
      "----------------------------------------------------------------\n",
      "Processing Record 37 of Set 10 | Ushibukamachi\n",
      "----------------------------------------------------------------\n",
      "Processing Record 38 of Set 10 | Dhārchula\n",
      "----------------------------------------------------------------\n",
      "Processing Record 39 of Set 10 | Caucayá\n",
      "----------------------------------------------------------------\n",
      "Processing Record 40 of Set 10 | Namie\n",
      "----------------------------------------------------------------\n",
      "Processing Record 41 of Set 10 | Yumen\n",
      "----------------------------------------------------------------\n"
     ]
    },
    {
     "name": "stdout",
     "output_type": "stream",
     "text": [
      "Processing Record 42 of Set 10 | Coronado\n",
      "----------------------------------------------------------------\n",
      "Processing Record 43 of Set 10 | Tra Vinh\n",
      "----------------------------------------------------------------\n",
      "Processing Record 44 of Set 10 | Puerto del Rosario\n",
      "----------------------------------------------------------------\n",
      "Processing Record 45 of Set 10 | Santa Cruz de la Sierra\n",
      "----------------------------------------------------------------\n",
      "Processing Record 46 of Set 10 | Manokwari\n",
      "----------------------------------------------------------------\n",
      "Processing Record 47 of Set 10 | Mabay\n",
      "----------------------------------------------------------------\n",
      "Processing Record 48 of Set 10 | Nautla\n",
      "----------------------------------------------------------------\n",
      "Processing Record 49 of Set 10 | Pangnirtung\n",
      "----------------------------------------------------------------\n",
      "Processing Record 50 of Set 10 | Barcarena\n",
      "----------------------------------------------------------------\n",
      "Processing Record 51 of Set 10 | Darnah\n",
      "----------------------------------------------------------------\n",
      "Processing Record 1 of Set 11 | Kota Kinabalu\n",
      "----------------------------------------------------------------\n",
      "Processing Record 2 of Set 11 | Tari\n",
      "----------------------------------------------------------------\n",
      "Processing Record 3 of Set 11 | Rome\n",
      "----------------------------------------------------------------\n",
      "Processing Record 4 of Set 11 | Bilibino\n",
      "----------------------------------------------------------------\n",
      "Processing Record 5 of Set 11 | Risør\n",
      "----------------------------------------------------------------\n",
      "Processing Record 6 of Set 11 | Mpongwe\n",
      "----------------------------------------------------------------\n",
      "Processing Record 7 of Set 11 | Takaka\n",
      "----------------------------------------------------------------\n",
      "City not found. Skipping...\n",
      "----------------------------------------------------------------\n",
      "Processing Record 8 of Set 11 | Vyshestebliyevskaya\n",
      "----------------------------------------------------------------\n",
      "Processing Record 9 of Set 11 | Viljoenskroon\n",
      "----------------------------------------------------------------\n",
      "Processing Record 10 of Set 11 | Jesús María\n",
      "----------------------------------------------------------------\n",
      "Processing Record 11 of Set 11 | Hasaki\n",
      "----------------------------------------------------------------\n",
      "Processing Record 12 of Set 11 | Harwich\n",
      "----------------------------------------------------------------\n",
      "Processing Record 13 of Set 11 | Flinders\n",
      "----------------------------------------------------------------\n",
      "Processing Record 14 of Set 11 | Asbestovskiy\n",
      "----------------------------------------------------------------\n",
      "Processing Record 15 of Set 11 | Mahon\n",
      "----------------------------------------------------------------\n",
      "Processing Record 16 of Set 11 | Ngorongoro\n",
      "----------------------------------------------------------------\n",
      "City not found. Skipping...\n",
      "----------------------------------------------------------------\n",
      "Processing Record 17 of Set 11 | Acarí\n",
      "----------------------------------------------------------------\n",
      "Processing Record 18 of Set 11 | San Anselmo\n",
      "----------------------------------------------------------------\n",
      "Processing Record 19 of Set 11 | Lokomotivnyy\n",
      "----------------------------------------------------------------\n"
     ]
    }
   ],
   "source": [
    "base_url = \"http://api.openweathermap.org/data/2.5/weather?\"\n",
    "\n",
    "# Create empty lists to append the API data into lists \n",
    "city_name = []\n",
    "cloudiness = []\n",
    "country = []\n",
    "date = []\n",
    "humidity = []\n",
    "lat = []\n",
    "lng = []\n",
    "max_temp = []\n",
    "wind_speed = []\n",
    "\n",
    "# Start the call counter \n",
    "record = 1\n",
    "of = 1\n",
    "\n",
    "# Log file print statement\n",
    "print(f\"Beginning Data Retrieval\")\n",
    "print(f\"-------------------------------\")\n",
    "\n",
    "#Loop through the cities in the city list \n",
    "for city in cities:  \n",
    "    \n",
    "    try: \n",
    "        response = requests.get(f\"{base_url}appid={weather_api_key}&q={city}&units=imperial\").json() \n",
    "        city_name.append(response[\"name\"])\n",
    "        cloudiness.append(response[\"clouds\"][\"all\"])\n",
    "        country.append(response[\"sys\"][\"country\"])\n",
    "        date.append(response[\"dt\"])\n",
    "        humidity.append(response[\"main\"][\"humidity\"])\n",
    "        max_temp.append(response[\"main\"][\"temp_max\"])\n",
    "        lat.append(response[\"coord\"][\"lat\"])\n",
    "        lng.append(response[\"coord\"][\"lon\"])\n",
    "        wind_speed.append(response[\"wind\"][\"speed\"])\n",
    "        city_record = response[\"name\"]\n",
    "        print(f\"Processing Record {record} of Set {of} | {city_record}\") \n",
    "        \n",
    "        # If no record found \"skip\" to next call\n",
    "    except:\n",
    "        print(\"City not found. Skipping...\")\n",
    "\n",
    "        record = record-1\n",
    "    \n",
    "    if record <=50:\n",
    "        record= record + 1\n",
    "    else:\n",
    "        record = 1\n",
    "        of += 1\n",
    "       \n",
    "    # Wait a second in loop to not over exceed rate limit of API\n",
    "    time.sleep(1.01)\n",
    "    \n",
    "    \n",
    "    print(\"-\"*64)"
   ]
  },
  {
   "cell_type": "code",
   "execution_count": 15,
   "metadata": {
    "scrolled": true
   },
   "outputs": [
    {
     "data": {
      "text/plain": [
       "City          529\n",
       "Cloudiness    529\n",
       "Country       529\n",
       "Date          529\n",
       "Humidity      529\n",
       "Lat           529\n",
       "Lng           529\n",
       "Max Temp      529\n",
       "Wind Speed    529\n",
       "dtype: int64"
      ]
     },
     "execution_count": 15,
     "metadata": {},
     "output_type": "execute_result"
    }
   ],
   "source": [
    "# Create a dictonary with the lists generated\n",
    "weatherpy_dict = {\n",
    "    \"City\": city_name,\n",
    "    \"Cloudiness\":cloudiness, \n",
    "    \"Country\":country,\n",
    "    \"Date\":date, \n",
    "    \"Humidity\": humidity,\n",
    "    \"Lat\":lat, \n",
    "    \"Lng\":lng, \n",
    "    \"Max Temp\": max_temp,\n",
    "    \"Wind Speed\":wind_speed\n",
    "}\n",
    "\n",
    "# Create a data frame from dictionary\n",
    "weather_data = pd.DataFrame(weatherpy_dict)\n",
    "\n",
    "# Display count of weather data values \n",
    "weather_data.count()"
   ]
  },
  {
   "cell_type": "markdown",
   "metadata": {},
   "source": [
    "### Convert Raw Data to DataFrame\n",
    "* Export the city data into a .csv.\n",
    "* Display the DataFrame"
   ]
  },
  {
   "cell_type": "code",
   "execution_count": 21,
   "metadata": {},
   "outputs": [
    {
     "data": {
      "text/html": [
       "<div>\n",
       "<style scoped>\n",
       "    .dataframe tbody tr th:only-of-type {\n",
       "        vertical-align: middle;\n",
       "    }\n",
       "\n",
       "    .dataframe tbody tr th {\n",
       "        vertical-align: top;\n",
       "    }\n",
       "\n",
       "    .dataframe thead th {\n",
       "        text-align: right;\n",
       "    }\n",
       "</style>\n",
       "<table border=\"1\" class=\"dataframe\">\n",
       "  <thead>\n",
       "    <tr style=\"text-align: right;\">\n",
       "      <th></th>\n",
       "      <th>City</th>\n",
       "      <th>Cloudiness</th>\n",
       "      <th>Country</th>\n",
       "      <th>Date</th>\n",
       "      <th>Humidity</th>\n",
       "      <th>Lat</th>\n",
       "      <th>Lng</th>\n",
       "      <th>Max Temp</th>\n",
       "      <th>Wind Speed</th>\n",
       "    </tr>\n",
       "  </thead>\n",
       "  <tbody>\n",
       "    <tr>\n",
       "      <th>0</th>\n",
       "      <td>Zhigansk</td>\n",
       "      <td>99</td>\n",
       "      <td>RU</td>\n",
       "      <td>1629766384</td>\n",
       "      <td>51</td>\n",
       "      <td>66.7697</td>\n",
       "      <td>123.3711</td>\n",
       "      <td>56.34</td>\n",
       "      <td>13.15</td>\n",
       "    </tr>\n",
       "    <tr>\n",
       "      <th>1</th>\n",
       "      <td>Ushuaia</td>\n",
       "      <td>75</td>\n",
       "      <td>AR</td>\n",
       "      <td>1629766563</td>\n",
       "      <td>56</td>\n",
       "      <td>-54.8000</td>\n",
       "      <td>-68.3000</td>\n",
       "      <td>37.06</td>\n",
       "      <td>16.11</td>\n",
       "    </tr>\n",
       "    <tr>\n",
       "      <th>2</th>\n",
       "      <td>Provideniya</td>\n",
       "      <td>90</td>\n",
       "      <td>RU</td>\n",
       "      <td>1629766217</td>\n",
       "      <td>81</td>\n",
       "      <td>64.3833</td>\n",
       "      <td>-173.3000</td>\n",
       "      <td>46.51</td>\n",
       "      <td>11.18</td>\n",
       "    </tr>\n",
       "    <tr>\n",
       "      <th>3</th>\n",
       "      <td>Albany</td>\n",
       "      <td>90</td>\n",
       "      <td>US</td>\n",
       "      <td>1629766191</td>\n",
       "      <td>91</td>\n",
       "      <td>42.6001</td>\n",
       "      <td>-73.9662</td>\n",
       "      <td>72.16</td>\n",
       "      <td>4.97</td>\n",
       "    </tr>\n",
       "    <tr>\n",
       "      <th>4</th>\n",
       "      <td>Vaini</td>\n",
       "      <td>20</td>\n",
       "      <td>TO</td>\n",
       "      <td>1629766657</td>\n",
       "      <td>73</td>\n",
       "      <td>-21.2000</td>\n",
       "      <td>-175.2000</td>\n",
       "      <td>75.36</td>\n",
       "      <td>11.50</td>\n",
       "    </tr>\n",
       "  </tbody>\n",
       "</table>\n",
       "</div>"
      ],
      "text/plain": [
       "          City  Cloudiness Country        Date  Humidity      Lat       Lng  \\\n",
       "0     Zhigansk          99      RU  1629766384        51  66.7697  123.3711   \n",
       "1      Ushuaia          75      AR  1629766563        56 -54.8000  -68.3000   \n",
       "2  Provideniya          90      RU  1629766217        81  64.3833 -173.3000   \n",
       "3       Albany          90      US  1629766191        91  42.6001  -73.9662   \n",
       "4        Vaini          20      TO  1629766657        73 -21.2000 -175.2000   \n",
       "\n",
       "   Max Temp  Wind Speed  \n",
       "0     56.34       13.15  \n",
       "1     37.06       16.11  \n",
       "2     46.51       11.18  \n",
       "3     72.16        4.97  \n",
       "4     75.36       11.50  "
      ]
     },
     "execution_count": 21,
     "metadata": {},
     "output_type": "execute_result"
    }
   ],
   "source": [
    "# Save data frame to CSV\n",
    "weather_data.to_csv(output_data_file)\n",
    "\n",
    "# Display data frame head \n",
    "weather_data.head()"
   ]
  },
  {
   "cell_type": "code",
   "execution_count": null,
   "metadata": {},
   "outputs": [],
   "source": []
  },
  {
   "cell_type": "markdown",
   "metadata": {},
   "source": [
    "## Inspect the data and remove the cities where the humidity > 100%.\n",
    "----\n",
    "Skip this step if there are no cities that have humidity > 100%. "
   ]
  },
  {
   "cell_type": "code",
   "execution_count": 26,
   "metadata": {},
   "outputs": [
    {
     "data": {
      "text/html": [
       "<div>\n",
       "<style scoped>\n",
       "    .dataframe tbody tr th:only-of-type {\n",
       "        vertical-align: middle;\n",
       "    }\n",
       "\n",
       "    .dataframe tbody tr th {\n",
       "        vertical-align: top;\n",
       "    }\n",
       "\n",
       "    .dataframe thead th {\n",
       "        text-align: right;\n",
       "    }\n",
       "</style>\n",
       "<table border=\"1\" class=\"dataframe\">\n",
       "  <thead>\n",
       "    <tr style=\"text-align: right;\">\n",
       "      <th></th>\n",
       "      <th>City</th>\n",
       "      <th>Cloudiness</th>\n",
       "      <th>Country</th>\n",
       "      <th>Date</th>\n",
       "      <th>Humidity</th>\n",
       "      <th>Lat</th>\n",
       "      <th>Lng</th>\n",
       "      <th>Max Temp</th>\n",
       "      <th>Wind Speed</th>\n",
       "    </tr>\n",
       "  </thead>\n",
       "  <tbody>\n",
       "  </tbody>\n",
       "</table>\n",
       "</div>"
      ],
      "text/plain": [
       "Empty DataFrame\n",
       "Columns: [City, Cloudiness, Country, Date, Humidity, Lat, Lng, Max Temp, Wind Speed]\n",
       "Index: []"
      ]
     },
     "execution_count": 26,
     "metadata": {},
     "output_type": "execute_result"
    }
   ],
   "source": [
    "#no countries with more than 100% humidity\n",
    "humid_drop = weather_data.loc[weather_data[\"Humidity\"]>100]\n",
    "humid_drop"
   ]
  },
  {
   "cell_type": "code",
   "execution_count": null,
   "metadata": {},
   "outputs": [],
   "source": [
    "#  Get the indices of cities that have humidity over 100%.\n"
   ]
  },
  {
   "cell_type": "code",
   "execution_count": null,
   "metadata": {},
   "outputs": [],
   "source": [
    "# Make a new DataFrame equal to the city data to drop all humidity outliers by index.\n",
    "# Passing \"inplace=False\" will make a copy of the city_data DataFrame, which we call \"clean_city_data\".\n"
   ]
  },
  {
   "cell_type": "code",
   "execution_count": null,
   "metadata": {},
   "outputs": [],
   "source": [
    "\n"
   ]
  },
  {
   "cell_type": "markdown",
   "metadata": {},
   "source": [
    "## Plotting the Data\n",
    "* Use proper labeling of the plots using plot titles (including date of analysis) and axes labels.\n",
    "* Save the plotted figures as .pngs."
   ]
  },
  {
   "cell_type": "markdown",
   "metadata": {},
   "source": [
    "## Latitude vs. Temperature Plot"
   ]
  },
  {
   "cell_type": "code",
   "execution_count": 28,
   "metadata": {
    "scrolled": true
   },
   "outputs": [
    {
     "data": {
      "text/plain": [
       "<matplotlib.collections.PathCollection at 0x2c6d0641b38>"
      ]
     },
     "execution_count": 28,
     "metadata": {},
     "output_type": "execute_result"
    },
    {
     "data": {
      "image/png": "[encoded data removed]",
      "text/plain": [
       "<Figure size 432x288 with 1 Axes>"
      ]
     },
     "metadata": {
      "needs_background": "light"
     },
     "output_type": "display_data"
    }
   ],
   "source": [
    "plt.scatter(weather_data[\"Lat\"], weather_data[\"Max Temp\"])"
   ]
  },
  {
   "cell_type": "markdown",
   "metadata": {},
   "source": [
    "## Latitude vs. Humidity Plot"
   ]
  },
  {
   "cell_type": "code",
   "execution_count": 29,
   "metadata": {},
   "outputs": [
    {
     "data": {
      "text/plain": [
       "<matplotlib.collections.PathCollection at 0x2c6d03c8a90>"
      ]
     },
     "execution_count": 29,
     "metadata": {},
     "output_type": "execute_result"
    },
    {
     "data": {
      "image/png": "[encoded data removed]",
      "text/plain": [
       "<Figure size 432x288 with 1 Axes>"
      ]
     },
     "metadata": {
      "needs_background": "light"
     },
     "output_type": "display_data"
    }
   ],
   "source": [
    "plt.scatter(weather_data[\"Lat\"], weather_data[\"Humidity\"])"
   ]
  },
  {
   "cell_type": "markdown",
   "metadata": {},
   "source": [
    "## Latitude vs. Cloudiness Plot"
   ]
  },
  {
   "cell_type": "code",
   "execution_count": 30,
   "metadata": {},
   "outputs": [
    {
     "data": {
      "text/plain": [
       "<matplotlib.collections.PathCollection at 0x2c6d14eafd0>"
      ]
     },
     "execution_count": 30,
     "metadata": {},
     "output_type": "execute_result"
    },
    {
     "data": {
      "image/png": "[encoded data removed]",
      "text/plain": [
       "<Figure size 432x288 with 1 Axes>"
      ]
     },
     "metadata": {
      "needs_background": "light"
     },
     "output_type": "display_data"
    }
   ],
   "source": [
    "plt.scatter(weather_data[\"Lat\"], weather_data[\"Cloudiness\"])"
   ]
  },
  {
   "cell_type": "markdown",
   "metadata": {},
   "source": [
    "## Latitude vs. Wind Speed Plot"
   ]
  },
  {
   "cell_type": "code",
   "execution_count": 31,
   "metadata": {},
   "outputs": [
    {
     "data": {
      "text/plain": [
       "<matplotlib.collections.PathCollection at 0x2c6d1582630>"
      ]
     },
     "execution_count": 31,
     "metadata": {},
     "output_type": "execute_result"
    },
    {
     "data": {
      "image/png": "[encoded data removed]",
      "text/plain": [
       "<Figure size 432x288 with 1 Axes>"
      ]
     },
     "metadata": {
      "needs_background": "light"
     },
     "output_type": "display_data"
    }
   ],
   "source": [
    "plt.scatter(weather_data[\"Lat\"], weather_data[\"Wind Speed\"])"
   ]
  },
  {
   "cell_type": "markdown",
   "metadata": {},
   "source": [
    "## Linear Regression"
   ]
  },
  {
   "cell_type": "code",
   "execution_count": 40,
   "metadata": {},
   "outputs": [],
   "source": [
    " north_h = weather_data.loc[weather_data[\"Lat\"]>=0]\n",
    " south_h = weather_data.loc[weather_data[\"Lat\"]<0]"
   ]
  },
  {
   "cell_type": "code",
   "execution_count": 41,
   "metadata": {},
   "outputs": [],
   "source": [
    "#define the function to call for each analysis/parameter\n",
    "def line_regr(x, y,yaxis):\n",
    "    \n",
    "    (slope, intercept, rvalue, pvalue, stderr) = linregress(x, y)\n",
    "    y_pred = intercept + slope*x\n",
    "    line_eq = \"y = \" + str(round(slope,2)) + \"x + \" + str(round(intercept,2))\n",
    "\n",
    "    # Plot\n",
    "    plt.scatter(x,y)\n",
    "    plt.plot(x,y_pred,\"r-\")\n",
    "    plt.xlabel('Latitude')\n",
    "    plt.ylabel(yaxis)\n",
    "    print(f\"r-squared: {rvalue}\")\n",
    "    plt.show()"
   ]
  },
  {
   "cell_type": "markdown",
   "metadata": {},
   "source": [
    "####  Northern Hemisphere - Max Temp vs. Latitude Linear Regression"
   ]
  },
  {
   "cell_type": "code",
   "execution_count": 43,
   "metadata": {},
   "outputs": [
    {
     "name": "stdout",
     "output_type": "stream",
     "text": [
      "r-squared: -0.7583627515845713\n"
     ]
    },
    {
     "data": {
      "image/png": "[encoded data removed]",
      "text/plain": [
       "<Figure size 432x288 with 1 Axes>"
      ]
     },
     "metadata": {
      "needs_background": "light"
     },
     "output_type": "display_data"
    }
   ],
   "source": [
    "x= north_h[\"Lat\"]\n",
    "y=north_h[\"Max Temp\"]\n",
    "line_regr(x, y, \"Max Temp\")"
   ]
  },
  {
   "cell_type": "markdown",
   "metadata": {},
   "source": [
    "####  Southern Hemisphere - Max Temp vs. Latitude Linear Regression"
   ]
  },
  {
   "cell_type": "code",
   "execution_count": 44,
   "metadata": {},
   "outputs": [
    {
     "name": "stdout",
     "output_type": "stream",
     "text": [
      "r-squared: 0.76195246025119\n"
     ]
    },
    {
     "data": {
      "image/png": "[encoded data removed]",
      "text/plain": [
       "<Figure size 432x288 with 1 Axes>"
      ]
     },
     "metadata": {
      "needs_background": "light"
     },
     "output_type": "display_data"
    }
   ],
   "source": [
    "x= south_h[\"Lat\"]\n",
    "y=south_h[\"Max Temp\"]\n",
    "line_regr(x, y, \"Max Temp\")"
   ]
  },
  {
   "cell_type": "markdown",
   "metadata": {},
   "source": [
    "####  Northern Hemisphere - Humidity (%) vs. Latitude Linear Regression"
   ]
  },
  {
   "cell_type": "code",
   "execution_count": 45,
   "metadata": {},
   "outputs": [
    {
     "name": "stdout",
     "output_type": "stream",
     "text": [
      "r-squared: -0.012285786577650297\n"
     ]
    },
    {
     "data": {
      "image/png": "[encoded data removed]",
      "text/plain": [
       "<Figure size 432x288 with 1 Axes>"
      ]
     },
     "metadata": {
      "needs_background": "light"
     },
     "output_type": "display_data"
    }
   ],
   "source": [
    "x= north_h[\"Lat\"]\n",
    "y=north_h[\"Humidity\"]\n",
    "line_regr(x, y, \"Humidity\")"
   ]
  },
  {
   "cell_type": "markdown",
   "metadata": {},
   "source": [
    "####  Southern Hemisphere - Humidity (%) vs. Latitude Linear Regression"
   ]
  },
  {
   "cell_type": "code",
   "execution_count": 46,
   "metadata": {},
   "outputs": [
    {
     "name": "stdout",
     "output_type": "stream",
     "text": [
      "r-squared: 0.1421258798942948\n"
     ]
    },
    {
     "data": {
      "image/png": "[encoded data removed]",
      "text/plain": [
       "<Figure size 432x288 with 1 Axes>"
      ]
     },
     "metadata": {
      "needs_background": "light"
     },
     "output_type": "display_data"
    }
   ],
   "source": [
    "x= south_h[\"Lat\"]\n",
    "y=south_h[\"Humidity\"]\n",
    "line_regr(x, y, \"Humidity\")"
   ]
  },
  {
   "cell_type": "markdown",
   "metadata": {},
   "source": [
    "####  Northern Hemisphere - Cloudiness (%) vs. Latitude Linear Regression"
   ]
  },
  {
   "cell_type": "code",
   "execution_count": 47,
   "metadata": {},
   "outputs": [
    {
     "name": "stdout",
     "output_type": "stream",
     "text": [
      "r-squared: 0.04912981693228805\n"
     ]
    },
    {
     "data": {
      "image/png": "[encoded data removed]",
      "text/plain": [
       "<Figure size 432x288 with 1 Axes>"
      ]
     },
     "metadata": {
      "needs_background": "light"
     },
     "output_type": "display_data"
    }
   ],
   "source": [
    "x= north_h[\"Lat\"]\n",
    "y=north_h[\"Cloudiness\"]\n",
    "line_regr(x, y, \"Cloudiness\")"
   ]
  },
  {
   "cell_type": "markdown",
   "metadata": {},
   "source": [
    "####  Southern Hemisphere - Cloudiness (%) vs. Latitude Linear Regression"
   ]
  },
  {
   "cell_type": "code",
   "execution_count": 48,
   "metadata": {},
   "outputs": [
    {
     "name": "stdout",
     "output_type": "stream",
     "text": [
      "r-squared: 0.0961258826801177\n"
     ]
    },
    {
     "data": {
      "image/png": "[encoded data removed]",
      "text/plain": [
       "<Figure size 432x288 with 1 Axes>"
      ]
     },
     "metadata": {
      "needs_background": "light"
     },
     "output_type": "display_data"
    }
   ],
   "source": [
    "x= south_h[\"Lat\"]\n",
    "y=south_h[\"Cloudiness\"]\n",
    "line_regr(x, y, \"Cloudiness\")"
   ]
  },
  {
   "cell_type": "markdown",
   "metadata": {},
   "source": [
    "####  Northern Hemisphere - Wind Speed (mph) vs. Latitude Linear Regression"
   ]
  },
  {
   "cell_type": "code",
   "execution_count": 49,
   "metadata": {},
   "outputs": [
    {
     "name": "stdout",
     "output_type": "stream",
     "text": [
      "r-squared: 0.09559916945242859\n"
     ]
    },
    {
     "data": {
      "image/png": "[encoded data removed]",
      "text/plain": [
       "<Figure size 432x288 with 1 Axes>"
      ]
     },
     "metadata": {
      "needs_background": "light"
     },
     "output_type": "display_data"
    }
   ],
   "source": [
    "x= north_h[\"Lat\"]\n",
    "y=north_h[\"Wind Speed\"]\n",
    "line_regr(x, y, \"Wind Speed\")"
   ]
  },
  {
   "cell_type": "markdown",
   "metadata": {},
   "source": [
    "####  Southern Hemisphere - Wind Speed (mph) vs. Latitude Linear Regression"
   ]
  },
  {
   "cell_type": "code",
   "execution_count": 50,
   "metadata": {},
   "outputs": [
    {
     "name": "stdout",
     "output_type": "stream",
     "text": [
      "r-squared: 0.0961258826801177\n"
     ]
    },
    {
     "data": {
      "image/png": "[encoded data removed]",
      "text/plain": [
       "<Figure size 432x288 with 1 Axes>"
      ]
     },
     "metadata": {
      "needs_background": "light"
     },
     "output_type": "display_data"
    }
   ],
   "source": [
    "x= south_h[\"Lat\"]\n",
    "y=south_h[\"Cloudiness\"]\n",
    "line_regr(x, y, \"Cloudiness\")"
   ]
  },
  {
   "cell_type": "code",
   "execution_count": null,
   "metadata": {},
   "outputs": [],
   "source": []
  }
 ],
 "metadata": {
  "anaconda-cloud": {},
  "kernel_info": {
   "name": "python3"
  },
  "kernelspec": {
   "display_name": "Python 3",
   "language": "python",
   "name": "python3"
  },
  "language_info": {
   "codemirror_mode": {
    "name": "ipython",
    "version": 3
   },
   "file_extension": ".py",
   "mimetype": "text/x-python",
   "name": "python",
   "nbconvert_exporter": "python",
   "pygments_lexer": "ipython3",
   "version": "3.6.13"
  },
  "latex_envs": {
   "LaTeX_envs_menu_present": true,
   "autoclose": false,
   "autocomplete": true,
   "bibliofile": "biblio.bib",
   "cite_by": "apalike",
   "current_citInitial": 1,
   "eqLabelWithNumbers": true,
   "eqNumInitial": 1,
   "hotkeys": {
    "equation": "Ctrl-E",
    "itemize": "Ctrl-I"
   },
   "labels_anchors": false,
   "latex_user_defs": false,
   "report_style_numbering": false,
   "user_envs_cfg": false
  },
  "nteract": {
   "version": "0.12.3"
  }
 },
 "nbformat": 4,
 "nbformat_minor": 2
}
